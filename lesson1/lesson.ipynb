{
 "cells": [
  {
   "cell_type": "markdown",
   "metadata": {},
   "source": [
    "# Lesson 1\n",
    "\n",
    "Programming is wrtiting instructions for computers to execute. The set of instructions you write becomes what's called a program. Computers can do lots of things really fast and can do things repeatedly without being tired and will do it accurately every time. Learning programming needs to start from the basic foundation and build on that foundation."
   ]
  },
  {
   "cell_type": "markdown",
   "metadata": {},
   "source": [
    "## Primitives\n",
    "\n",
    "Primitives are simple types of data like numbers (integer, float), strings, boolean (True/False), "
   ]
  },
  {
   "cell_type": "code",
   "execution_count": null,
   "metadata": {},
   "outputs": [],
   "source": [
    "1\n",
    "3.1415926535\n",
    "-105\n",
    "0"
   ]
  },
  {
   "cell_type": "markdown",
   "metadata": {},
   "source": [
    "Numbers are also broken into a few different types. Whole numbers like -2,0,1,3,999,.. are called `integer`. And decimal numbers like 3.141592 are called `float`."
   ]
  },
  {
   "cell_type": "code",
   "execution_count": null,
   "metadata": {},
   "outputs": [],
   "source": [
    "\"This is a string\"\n",
    "\n",
    "# This next one is also a string\n",
    "\"1\"\n",
    "\n",
    "# So is this one, it's called an `empty string`\n",
    "\"\""
   ]
  },
  {
   "cell_type": "code",
   "execution_count": null,
   "metadata": {},
   "outputs": [],
   "source": [
    "True\n",
    "False\n",
    "\n",
    "# You can also do boolean logic\n",
    "# True AND False\n",
    "True and False"
   ]
  },
  {
   "cell_type": "markdown",
   "metadata": {},
   "source": [
    "## Basic operators and operands\n",
    "\n",
    "There are many operations you can perform in a programming language. One basic kind are calculations like addition, subtraction, multiplication, and division. "
   ]
  },
  {
   "cell_type": "code",
   "execution_count": null,
   "metadata": {},
   "outputs": [],
   "source": [
    "4 + 2\n",
    "4 - 2\n",
    "4 * 2\n",
    "4 / 2"
   ]
  },
  {
   "cell_type": "markdown",
   "metadata": {},
   "source": [
    "Operators in this case are the addition (`+`), subtraction (`-`), multiplication (`*`), and division (`/`). The `operands` are the `4`s and `2`s.\n",
    "\n",
    "In the following, what are the operators and what are the operands?"
   ]
  },
  {
   "cell_type": "code",
   "execution_count": null,
   "metadata": {},
   "outputs": [],
   "source": [
    "3 + (5 * 2)"
   ]
  },
  {
   "cell_type": "markdown",
   "metadata": {},
   "source": [
    "Any primitive we've just talked about can be an operand. \n",
    "\n",
    "For example, what does it mean to \"add\" (`+`) 2 strings together?"
   ]
  },
  {
   "cell_type": "code",
   "execution_count": null,
   "metadata": {},
   "outputs": [],
   "source": [
    "\"Hello\" + \"World\""
   ]
  },
  {
   "cell_type": "markdown",
   "metadata": {},
   "source": [
    "The result, you'll see, is \"HelloWorld\". It joins the 2 strings together! This is called \"String concatenation\". You can say that we concatenates \"Hello\" to \"World\". Of course, English is particular with spaces, so how can we add a space between \"Hello\" and \"World\"? Try it out below."
   ]
  },
  {
   "cell_type": "code",
   "execution_count": null,
   "metadata": {},
   "outputs": [],
   "source": [
    "# How can we add a space between these two strings?\n",
    "\"Hello\" + \"World\""
   ]
  },
  {
   "cell_type": "markdown",
   "metadata": {},
   "source": [
    "How about if we try a multiplication (`*`) operation to a string? Give the next program a try."
   ]
  },
  {
   "cell_type": "code",
   "execution_count": null,
   "metadata": {},
   "outputs": [],
   "source": [
    "\"Hello\" * 3"
   ]
  },
  {
   "cell_type": "markdown",
   "metadata": {},
   "source": [
    "That's right, it spits out \"Hello\" 3 times! So multiplying a number to a string just repeats the string that many times."
   ]
  },
  {
   "cell_type": "markdown",
   "metadata": {},
   "source": [
    "## Input and output\n",
    "\n",
    "Input and output are very common terminologies in programming. A program does the \"processing\", but it needs an input from the user and output the result to the users of the program to be useful.\n",
    "\n",
    "Input are what it sounds like, this is when a program takes interactions from the users. Interactions are like:\n",
    "\n",
    "- Moving a mouse\n",
    "- Typing letters or numbers on the keyboard\n",
    "- Touching a certain part of screen\n",
    "- Pressing a key on a digital piano\n",
    "\n",
    "Outputs are the result of the processing shown to the user. Examples are:\n",
    "\n",
    "- A computer screen\n",
    "- Lights\n",
    "- Speakers\n",
    "\n",
    "Puting these together, you can see something like:\n",
    "\n",
    "- When a user `moves the mouse` as an input, the output on a `computer screen` is the cursor moving around\n",
    "- When a user `types the letter \"a\"` as an input on the keyboard, the output on a `computer screen` is a letter \"a\" on the line\n",
    "- When a user `presses the middle C key` as an input on a digital piano, the output is the C note from `the speaker`\n",
    "\n",
    "In Python, we use a special \"word\" called `input` and `print` to do these things. `input` will ask user to type something in and `print` will output something out."
   ]
  },
  {
   "cell_type": "code",
   "execution_count": null,
   "metadata": {},
   "outputs": [],
   "source": [
    "print(\"Hello world\")"
   ]
  },
  {
   "cell_type": "markdown",
   "metadata": {},
   "source": [
    "## Variables\n",
    "\n",
    "One of the most powerful thing about programming and programming languages are `variables`. They are what makes a program *interesting*.\n",
    "\n",
    "Imagine a program that only does `4 + 2` everytime we run it. The program would just output `6` everytime you run it. Not very useful or interesting, right?\n",
    "\n",
    "How about instead, we ask the user for an *input* and the program does the calculation and outputs the answer to the user? For example, consider the following program called `doubles.py`. The program \"doubles\" whatever number the user input."
   ]
  },
  {
   "cell_type": "code",
   "execution_count": null,
   "metadata": {},
   "outputs": [],
   "source": [
    "# doubles.py\n",
    "\n",
    "user_input = input(\"Please give input\")\n",
    "print(user_input * 2)"
   ]
  },
  {
   "cell_type": "markdown",
   "metadata": {},
   "source": [
    "In this case, `user_input` is the `variable` we're talking about. We can store all kinds of values in a variable. Here, we store the value `5` into `user_input` and we can later recall or use that store value again somewhere else in the program like outputing to the user.\n",
    "\n",
    "But wait! When we run the program, the output isn't what we expected. The number isn't doubling, it's printing it twice instead! The reason for this is that `input` is assuming that whatever the user input will be a `String` type. So `user_input` is a string variable. And remember from our example above? When you do a multiplication to a string, you simply repeat the string. That's why you would get the result you were seeing above. \n",
    "\n",
    "The solution to this is \"convert\" (or in programming it's called \"cast\") the string into an integer (remember integers are a kind of number). To do this, you apply an `int` to your input. We call this `int` a \"function\", which we'll learn more about next lesson. See solution below and try to run it."
   ]
  },
  {
   "cell_type": "code",
   "execution_count": null,
   "metadata": {},
   "outputs": [],
   "source": [
    "# doubles.py\n",
    "\n",
    "user_input = input(\"Please give input\")\n",
    "print(int(user_input) * 2)"
   ]
  },
  {
   "cell_type": "markdown",
   "metadata": {},
   "source": [
    "You can also use variables for many other things like storing the result for more processing later in the program. "
   ]
  },
  {
   "cell_type": "code",
   "execution_count": null,
   "metadata": {},
   "outputs": [],
   "source": [
    "# double-double.py\n",
    "\n",
    "user_input = input(\"Please give input\")\n",
    "double = int(user_input) * 2\n",
    "doubledouble = double * 2\n",
    "\n",
    "print(doubledouble)"
   ]
  },
  {
   "cell_type": "markdown",
   "metadata": {},
   "source": [
    "To explain this program here:\n",
    "\n",
    "1. We get an input from the user and store it in the `user_input` variable.\n",
    "2. We double the user input (remember to cast the string input to integer) and store it another variable called `double`.\n",
    "3. We double the `double` variable again and store it yet another variable called `doubledouble`.\n",
    "4. We output the final answer by `print`ing the value of `doubledouble`."
   ]
  },
  {
   "cell_type": "markdown",
   "metadata": {},
   "source": [
    "# End of Lesson 1\n",
    "\n",
    "In your book, please read Chapters 2 and 3."
   ]
  }
 ],
 "metadata": {
  "kernelspec": {
   "display_name": ".venv",
   "language": "python",
   "name": "python3"
  },
  "language_info": {
   "codemirror_mode": {
    "name": "ipython",
    "version": 3
   },
   "file_extension": ".py",
   "mimetype": "text/x-python",
   "name": "python",
   "nbconvert_exporter": "python",
   "pygments_lexer": "ipython3",
   "version": "3.12.3"
  }
 },
 "nbformat": 4,
 "nbformat_minor": 2
}

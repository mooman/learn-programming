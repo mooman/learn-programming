{
 "cells": [
  {
   "cell_type": "markdown",
   "metadata": {},
   "source": [
    "# Lesson 1\n",
    "\n",
    "Programming is wrtiting instructions for computers to execute. Computers can do lots of things really fast and can do things repeatedly without being tired and will do it accurately every time. Learning programming needs to start from the basic foundation and build on that foundation.\n",
    "\n",
    "## Primitives\n",
    "\n",
    "Primitives are simple types of data like numbers, strings, boolean (True/False), \n"
   ]
  },
  {
   "cell_type": "code",
   "execution_count": null,
   "metadata": {},
   "outputs": [],
   "source": [
    "1"
   ]
  }
 ],
 "metadata": {
  "kernelspec": {
   "display_name": ".venv",
   "language": "python",
   "name": "python3"
  },
  "language_info": {
   "name": "python",
   "version": "3.11.8"
  }
 },
 "nbformat": 4,
 "nbformat_minor": 2
}
